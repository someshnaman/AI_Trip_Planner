{
 "cells": [
  {
   "cell_type": "code",
   "execution_count": 1,
   "id": "4ef04c12",
   "metadata": {},
   "outputs": [
    {
     "name": "stdout",
     "output_type": "stream",
     "text": [
      "content=\"Haha, that's a good one! I guess even bicycles need a break sometimes. Thanks for sharing!\" additional_kwargs={} response_metadata={'token_usage': {'prompt_tokens': 32, 'completion_tokens': 20, 'total_tokens': 52}, 'model_name': 'gpt-4.1-nano', 'system_fingerprint': None, 'finish_reason': 'stop', 'model': 'gpt-4.1-nano', 'created': 1753172696} id='run--4a03b93e-187d-4c12-a339-6de7788cf9ef-0' usage_metadata={'input_tokens': 32, 'output_tokens': 20, 'total_tokens': 52}\n"
     ]
    }
   ],
   "source": [
    "from euriai.langchain import EuriaiChatModel\n",
    "from langchain_core.messages import SystemMessage, HumanMessage\n",
    "\n",
    "chat = EuriaiChatModel(\n",
    "    api_key=\"euri-bc2ae16e7d40c167df6c59920835de0cfaecaf0ba6afe9a88cb64f3b5d13bf9d\",\n",
    "    model=\"gpt-4.1-nano\",\n",
    "    max_tokens=500\n",
    ")\n",
    "\n",
    "messages = [\n",
    "    SystemMessage(content=\"You are an 5th Standard Person.\"),\n",
    "    HumanMessage(content=\"Tell me a Joke?\")\n",
    "]\n",
    "response = chat.invoke(messages)\n",
    "print(chat.invoke(response.content))"
   ]
  },
  {
   "cell_type": "code",
   "execution_count": null,
   "id": "9bd57f25",
   "metadata": {},
   "outputs": [],
   "source": []
  }
 ],
 "metadata": {
  "kernelspec": {
   "display_name": "Python (AITripPlanner)",
   "language": "python",
   "name": "aitrip"
  },
  "language_info": {
   "codemirror_mode": {
    "name": "ipython",
    "version": 3
   },
   "file_extension": ".py",
   "mimetype": "text/x-python",
   "name": "python",
   "nbconvert_exporter": "python",
   "pygments_lexer": "ipython3",
   "version": "3.12.3"
  }
 },
 "nbformat": 4,
 "nbformat_minor": 5
}
