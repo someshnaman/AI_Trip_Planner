{
 "cells": [
  {
   "cell_type": "code",
   "execution_count": 1,
   "id": "83cd1a55",
   "metadata": {},
   "outputs": [],
   "source": [
    "from typing import Dict, TypedDict,List\n",
    "from langgraph.graph import StateGraph, START, END"
   ]
  },
  {
   "cell_type": "code",
   "execution_count": 2,
   "id": "715e06c9",
   "metadata": {},
   "outputs": [],
   "source": [
    "class AgentState(TypedDict): # State Schema\n",
    "    message:str\n",
    "\n",
    "def greeting_node(state: AgentState)-> AgentState:\n",
    "    \"\"\"\n",
    "    Simple node that add a greeting message to state\n",
    "    \"\"\"\n",
    "    state['message']  = \"Hey\" + state[\"message\"] + \", How are you doing\"\n",
    "\n",
    "    return state\n"
   ]
  },
  {
   "cell_type": "code",
   "execution_count": 3,
   "id": "c819019a",
   "metadata": {},
   "outputs": [],
   "source": [
    "graph = StateGraph(AgentState)\n",
    "\n",
    "graph.add_node(\"Greetor\", greeting_node)\n",
    "graph.set_entry_point(\"Greetor\")\n",
    "graph.set_finish_point(\"Greetor\")\n",
    "\n",
    "appp = graph.compile()"
   ]
  },
  {
   "cell_type": "code",
   "execution_count": 4,
   "id": "8b0efacf",
   "metadata": {},
   "outputs": [
    {
     "data": {
      "image/png": "[encoded data removed]",
      "text/plain": [
       "<IPython.core.display.Image object>"
      ]
     },
     "metadata": {},
     "output_type": "display_data"
    }
   ],
   "source": [
    "from IPython.display import Image, display\n",
    "display(Image(appp.get_graph().draw_mermaid_png()))"
   ]
  },
  {
   "cell_type": "code",
   "execution_count": 5,
   "id": "90e1f3be",
   "metadata": {},
   "outputs": [
    {
     "data": {
      "text/plain": [
       "{'message': 'HeySomesh, How are you doing'}"
      ]
     },
     "execution_count": 5,
     "metadata": {},
     "output_type": "execute_result"
    }
   ],
   "source": [
    "appp.invoke({\"message\":'Somesh'})"
   ]
  },
  {
   "cell_type": "code",
   "execution_count": 6,
   "id": "2c33dce1",
   "metadata": {},
   "outputs": [],
   "source": [
    "from typing import List\n",
    "\n",
    "class AgentState(TypedDict):\n",
    "    value:List[int]\n",
    "    name: str\n",
    "    result: str"
   ]
  },
  {
   "cell_type": "code",
   "execution_count": 7,
   "id": "f9866476",
   "metadata": {},
   "outputs": [],
   "source": [
    "def sum_graph(state:AgentState)->AgentState:\n",
    "    state['result'] = f'Hey my name is {state['name']}. here is the sum of Values: {sum(state[\"value\"])} '\n",
    "    return state"
   ]
  },
  {
   "cell_type": "code",
   "execution_count": 8,
   "id": "54e2728d",
   "metadata": {},
   "outputs": [],
   "source": [
    "builder = StateGraph(AgentState)\n",
    "builder.add_node('process', sum_graph)\n",
    "builder.set_entry_point('process')\n",
    "builder.set_finish_point('process')\n",
    "\n",
    "app = builder.compile()"
   ]
  },
  {
   "cell_type": "code",
   "execution_count": 9,
   "id": "dcb6c624",
   "metadata": {},
   "outputs": [
    {
     "data": {
      "image/png": "[encoded data removed]",
      "text/plain": [
       "<IPython.core.display.Image object>"
      ]
     },
     "metadata": {},
     "output_type": "display_data"
    }
   ],
   "source": [
    "from IPython.display import Image, display\n",
    "display(Image(app.get_graph().draw_mermaid_png()))"
   ]
  },
  {
   "cell_type": "code",
   "execution_count": 10,
   "id": "b8e65458",
   "metadata": {},
   "outputs": [],
   "source": [
    "from typing import List\n",
    "\n",
    "class AgentState(TypedDict):\n",
    "    skills:List[str]\n",
    "    name: str\n",
    "    age: int\n",
    "    result:str"
   ]
  },
  {
   "cell_type": "code",
   "execution_count": 11,
   "id": "1933ac69",
   "metadata": {},
   "outputs": [],
   "source": [
    "def name_node(state:AgentState)->AgentState:\n",
    "    state['result'] = f\"Hey There! This is {state['name']}.\"\n",
    "    return state\n",
    "\n",
    "\n",
    "def age_node(state:AgentState)->AgentState:\n",
    "    state['result'] = state['result'] + f\" My age is {state['age']}\"\n",
    "    return state\n",
    "\n",
    "def skill_node(state:AgentState)->AgentState:\n",
    "    state['result'] = state['result']+ f\"Here are my Skills:{state['skills']}\"\n",
    "    return state\n"
   ]
  },
  {
   "cell_type": "code",
   "execution_count": 12,
   "id": "4a86fd63",
   "metadata": {},
   "outputs": [],
   "source": [
    "graph_builder = StateGraph(AgentState)\n",
    "graph_builder.add_node('name_node', name_node)\n",
    "graph_builder.add_node('age_node', age_node)\n",
    "graph_builder.add_node('skill_node', skill_node)\n",
    "\n",
    "graph_builder.set_entry_point(\"name_node\")\n",
    "graph_builder.add_edge(\"name_node\", \"age_node\")\n",
    "graph_builder.add_edge(\"age_node\", \"skill_node\")\n",
    "graph_builder.set_finish_point(\"skill_node\")\n",
    "\n",
    "comp_fraph = graph_builder.compile()"
   ]
  },
  {
   "cell_type": "code",
   "execution_count": 13,
   "id": "30be83b8",
   "metadata": {},
   "outputs": [
    {
     "data": {
      "image/png": "[encoded data removed]",
      "text/plain": [
       "<IPython.core.display.Image object>"
      ]
     },
     "metadata": {},
     "output_type": "display_data"
    }
   ],
   "source": [
    "from IPython.display import Image, display\n",
    "display(Image(comp_fraph.get_graph().draw_mermaid_png()))"
   ]
  },
  {
   "cell_type": "code",
   "execution_count": 14,
   "id": "03fcc7bf",
   "metadata": {},
   "outputs": [
    {
     "data": {
      "text/plain": [
       "\"Hey There! This is Somesh. My age is 29Here are my Skills:['Python', 'machine learning', 3]\""
      ]
     },
     "execution_count": 14,
     "metadata": {},
     "output_type": "execute_result"
    }
   ],
   "source": [
    "comp_fraph.invoke({\"name\":\"Somesh\", 'age':29, \"skills\":['Python',\"machine learning\",3]})['result']"
   ]
  },
  {
   "cell_type": "code",
   "execution_count": 15,
   "id": "c54ba3fa",
   "metadata": {},
   "outputs": [],
   "source": [
    "\n",
    "class AgentState(TypedDict):\n",
    "    number1: int\n",
    "    number2: int    \n",
    "    operation:str\n",
    "    final_number:int"
   ]
  },
  {
   "cell_type": "code",
   "execution_count": 16,
   "id": "53e46011",
   "metadata": {},
   "outputs": [],
   "source": [
    "def add_node(state:AgentState)->AgentState:\n",
    "    state['final_number']= state['number1'] + state['number2']\n",
    "    return state\n",
    "\n",
    "def sub_node(state:AgentState)->AgentState:\n",
    "    state['final_number']= state['number1'] - state['number2']\n",
    "    return state\n",
    "\n",
    "def router(state:AgentState)->AgentState:\n",
    "    if state['operation']=='+':\n",
    "        return \"addition_operation\"\n",
    "    elif state['operation']==\"-\" :\n",
    "        return \"substraction_operation\"\n"
   ]
  },
  {
   "cell_type": "code",
   "execution_count": 17,
   "id": "575e9a84",
   "metadata": {},
   "outputs": [],
   "source": [
    "graph = StateGraph(AgentState)\n",
    "\n",
    "graph.add_node('add_node_1', add_node)\n",
    "graph.add_node(\"sub_node_1\", sub_node)\n",
    "graph.add_node('router_1', lambda state:state)\n",
    "graph.add_edge(START, \"router_1\")\n",
    "graph.add_conditional_edges(\"router_1\", \n",
    "                            router,\n",
    "                            {\n",
    "                                'addition_operation':'add_node_1',\n",
    "                                'substraction_operation':'sub_node_1'\n",
    "                            })\n",
    "\n",
    "graph.add_node('router_2', lambda state: state)\n",
    "graph.add_edge('add_node_1', 'router_2')\n",
    "graph.add_edge('sub_node_1', 'router_2')\n",
    "graph.add_node('add_node_2', add_node)\n",
    "graph.add_node(\"sub_node_2\", sub_node)\n",
    "graph.add_conditional_edges(\"router_2\", \n",
    "                            router,\n",
    "                            {\n",
    "                                'addition_operation':'add_node_2',\n",
    "                                'substraction_operation':'sub_node_2'\n",
    "                            })\n",
    "graph.add_edge('add_node_2', END)\n",
    "graph.add_edge('sub_node_2', END)\n",
    "\n",
    "comp_graph = graph.compile()"
   ]
  },
  {
   "cell_type": "code",
   "execution_count": 18,
   "id": "b666b5d4",
   "metadata": {},
   "outputs": [
    {
     "data": {
      "image/png": "[encoded data removed]",
      "text/plain": [
       "<IPython.core.display.Image object>"
      ]
     },
     "metadata": {},
     "output_type": "display_data"
    }
   ],
   "source": [
    "from IPython.display import Image, display\n",
    "display(Image(comp_graph.get_graph().draw_mermaid_png()))"
   ]
  },
  {
   "cell_type": "code",
   "execution_count": 19,
   "id": "c15aa5f7",
   "metadata": {},
   "outputs": [
    {
     "data": {
      "text/plain": [
       "{'number1': 10, 'number2': 5, 'operation': '-', 'final_number': 5}"
      ]
     },
     "execution_count": 19,
     "metadata": {},
     "output_type": "execute_result"
    }
   ],
   "source": [
    "comp_graph.invoke({'number1': 10,\n",
    "    'number2': 5,    \n",
    "    'operation':'-',})  "
   ]
  },
  {
   "cell_type": "code",
   "execution_count": 37,
   "id": "359e0880",
   "metadata": {},
   "outputs": [],
   "source": [
    "import random\n",
    "class AgentState(TypedDict):\n",
    "    player_name:str\n",
    "    lower_bound: int    \n",
    "    upper_bound:str\n",
    "    attempts:int\n",
    "    guesses: List[int]\n",
    "    target_num : int\n",
    "    user_input:int"
   ]
  },
  {
   "cell_type": "code",
   "execution_count": 38,
   "id": "f9cc9d01",
   "metadata": {},
   "outputs": [],
   "source": [
    "\n",
    "def setup(state:AgentState)->AgentState:\n",
    "    state[\"player_name\"] = f\"Welcome, {state['player_name']}!\"\n",
    "    state['lower_bound'] = 1\n",
    "    state['upper_bound'] =  20\n",
    "    state['attempts'] = 0\n",
    "    state['guesses'] = []\n",
    "    state[\"hint\"] = \"Game started! Try to guess the number.\"\n",
    "    state['target_num'] = random.randint(state['lower_bound'], state['upper_bound'])\n",
    "    return state"
   ]
  },
  {
   "cell_type": "code",
   "execution_count": 50,
   "id": "f1052c91",
   "metadata": {},
   "outputs": [],
   "source": [
    "def guess(state:AgentState)-> AgentState:\n",
    "    \"guessing the numbers \"\n",
    "    possible_output = [num for num in range(state['lower_bound'],\n",
    "                                             state['upper_bound']+1)\n",
    "                                             if num not in state['guesses']]\n",
    "    if possible_output:\n",
    "        guess = random.choice(possible_output)\n",
    "    else:\n",
    "        guess = random.randint(state['lower_bound'], state['upper_bound'])\n",
    "    state['guesses'].append(guess)\n",
    "    state['attempts']+=1\n",
    "    print(f\"Attempt {state['attempts']}: Guessing {guess} (Current range: {state['lower_bound']}-{state['upper_bound']})\")\n",
    "    return state"
   ]
  },
  {
   "cell_type": "code",
   "execution_count": 60,
   "id": "c9900ce4",
   "metadata": {},
   "outputs": [],
   "source": [
    "def hint_node(state:AgentState)->AgentState:\n",
    "    latest_guess = state['guesses'][-1]\n",
    "    target = state['target_num']\n",
    "    if latest_guess<target:\n",
    "        state['hint'] = f\"The number {latest_guess} is lower. try higher\"\n",
    "        state['lower_bound'] = max(state['lower_bound'], latest_guess+1)\n",
    "        print(f\"hint: {state['hint']}\")\n",
    "    elif latest_guess>target:\n",
    "        state['hint'] = f\"The number {latest_guess} is Higher. try lower\"\n",
    "        state['upper_bound'] = min(state['upper_bound'], latest_guess-1)\n",
    "        print(f\"hint: {state['hint']}\")\n",
    "    else:\n",
    "        state['hint'] = f\"You got the {target} in {state['attempts']} attempts\"\n",
    "    return state"
   ]
  },
  {
   "cell_type": "code",
   "execution_count": 61,
   "id": "bc54af8a",
   "metadata": {},
   "outputs": [],
   "source": [
    "def should_continue(state:AgentState)->str:\n",
    "    latest_guess = state['guesses'][-1]\n",
    "    if latest_guess==state['target_num']:\n",
    "        print(f\"YaY: You've got the number {latest_guess}\")\n",
    "        return \"end\"\n",
    "    elif state['attempts'] >=7:\n",
    "        print(\"Numebr of attemtpts are over! game Over We'll not tell ypou the number\")\n",
    "        return \"end\"\n",
    "    else:\n",
    "        print(f\"{7-state['attempts']} attempts out of 7 attempts are left\")\n",
    "        return \"continue\""
   ]
  },
  {
   "cell_type": "code",
   "execution_count": 62,
   "id": "37884060",
   "metadata": {},
   "outputs": [],
   "source": [
    "graph = StateGraph(AgentState)\n",
    "\n",
    "graph.add_node('setup', setup)\n",
    "graph.add_node('guess', guess)\n",
    "graph.add_node('hint_node', hint_node)\n",
    "\n",
    "\n",
    "graph.add_edge('setup', 'guess')\n",
    "graph.add_edge('guess', 'hint_node')\n",
    "\n",
    "graph.add_conditional_edges('hint_node',\n",
    "                            should_continue,\n",
    "                            {\"end\":END,\n",
    "                             \"continue\":'guess'})\n",
    "graph.set_entry_point('setup')\n",
    "\n",
    "my_graph = graph.compile()"
   ]
  },
  {
   "cell_type": "code",
   "execution_count": 63,
   "id": "269e30c6",
   "metadata": {},
   "outputs": [
    {
     "data": {
      "image/png": "[encoded data removed]",
      "text/plain": [
       "<IPython.core.display.Image object>"
      ]
     },
     "metadata": {},
     "output_type": "display_data"
    }
   ],
   "source": [
    "from IPython.display import Image, display\n",
    "display(Image(my_graph.get_graph().draw_mermaid_png()))"
   ]
  },
  {
   "cell_type": "code",
   "execution_count": 67,
   "id": "29b2548a",
   "metadata": {},
   "outputs": [
    {
     "name": "stdout",
     "output_type": "stream",
     "text": [
      "Attempt 1: Guessing 10 (Current range: 1-20)\n",
      "hint: The number 10 is lower. try higher\n",
      "6 attempts out of 7 attempts are left\n",
      "Attempt 2: Guessing 15 (Current range: 11-20)\n",
      "hint: The number 15 is Higher. try lower\n",
      "5 attempts out of 7 attempts are left\n",
      "Attempt 3: Guessing 13 (Current range: 11-14)\n",
      "hint: The number 13 is Higher. try lower\n",
      "4 attempts out of 7 attempts are left\n",
      "Attempt 4: Guessing 12 (Current range: 11-12)\n",
      "hint: The number 12 is Higher. try lower\n",
      "3 attempts out of 7 attempts are left\n",
      "Attempt 5: Guessing 11 (Current range: 11-11)\n",
      "YaY: You've got the number 11\n"
     ]
    }
   ],
   "source": [
    "result = my_graph.invoke({\"player_name\": \"Student\", \"guesses\": [],\n",
    "                           \"attempts\": 0, \"lower_bound\": 1, \"upper_bound\": 20})"
   ]
  },
  {
   "cell_type": "code",
   "execution_count": 68,
   "id": "44bfa7b9",
   "metadata": {},
   "outputs": [
    {
     "ename": "ModuleNotFoundError",
     "evalue": "No module named 'euriai.langchain'",
     "output_type": "error",
     "traceback": [
      "\u001b[31m---------------------------------------------------------------------------\u001b[39m",
      "\u001b[31mModuleNotFoundError\u001b[39m                       Traceback (most recent call last)",
      "\u001b[36mCell\u001b[39m\u001b[36m \u001b[39m\u001b[32mIn[68]\u001b[39m\u001b[32m, line 1\u001b[39m\n\u001b[32m----> \u001b[39m\u001b[32m1\u001b[39m \u001b[38;5;28;01mfrom\u001b[39;00m\u001b[38;5;250m \u001b[39m\u001b[34;01meuriai\u001b[39;00m\u001b[34;01m.\u001b[39;00m\u001b[34;01mlangchain\u001b[39;00m\u001b[38;5;250m \u001b[39m\u001b[38;5;28;01mimport\u001b[39;00m create_chat_model\n\u001b[32m      3\u001b[39m chat_model = create_chat_model(\n\u001b[32m      4\u001b[39m     api_key=\u001b[33m\"\u001b[39m\u001b[33meuri-bc2ae16e7d40c167df6c59920835de0cfaecaf0ba6afe9a88cb64f3b5d13bf9d\u001b[39m\u001b[33m\"\u001b[39m,\n\u001b[32m      5\u001b[39m     model=\u001b[33m\"\u001b[39m\u001b[33mgpt-4.1-nano\u001b[39m\u001b[33m\"\u001b[39m,\n\u001b[32m      6\u001b[39m     temperature=\u001b[32m0.7\u001b[39m\n\u001b[32m      7\u001b[39m )\n\u001b[32m      9\u001b[39m response = chat_model.invoke(\u001b[33m\"\u001b[39m\u001b[33mWhat is artificial intelligence?\u001b[39m\u001b[33m\"\u001b[39m)\n",
      "\u001b[31mModuleNotFoundError\u001b[39m: No module named 'euriai.langchain'"
     ]
    }
   ],
   "source": [
    "from euriai.langchain import create_chat_model\n",
    "\n",
    "chat_model = create_chat_model(\n",
    "    api_key=\"euri-bc2ae16e7d40c167df6c59920835de0cfaecaf0ba6afe9a88cb64f3b5d13bf9d\",\n",
    "    model=\"gpt-4.1-nano\",\n",
    "    temperature=0.7\n",
    ")\n",
    "\n",
    "response = chat_model.invoke(\"What is artificial intelligence?\")\n",
    "print(response.content)\n"
   ]
  },
  {
   "cell_type": "code",
   "execution_count": 84,
   "id": "bc462223",
   "metadata": {},
   "outputs": [],
   "source": [
    "EURI_API = \"euri-bc2ae16e7d40c167df6c59920835de0cfaecaf0ba6afe9a88cb64f3b5d13bf9d\""
   ]
  },
  {
   "cell_type": "code",
   "execution_count": 85,
   "id": "fb816555",
   "metadata": {},
   "outputs": [
    {
     "ename": "HTTPError",
     "evalue": "404 Client Error: Not Found for url: https://api.euron.one/api/v1/euri/alpha/chat/completions",
     "output_type": "error",
     "traceback": [
      "\u001b[31m---------------------------------------------------------------------------\u001b[39m",
      "\u001b[31mHTTPError\u001b[39m                                 Traceback (most recent call last)",
      "\u001b[36mCell\u001b[39m\u001b[36m \u001b[39m\u001b[32mIn[85]\u001b[39m\u001b[32m, line 8\u001b[39m\n\u001b[32m      1\u001b[39m \u001b[38;5;28;01mfrom\u001b[39;00m\u001b[38;5;250m \u001b[39m\u001b[34;01meuriai\u001b[39;00m\u001b[38;5;250m \u001b[39m\u001b[38;5;28;01mimport\u001b[39;00m EuriaiClient\n\u001b[32m      3\u001b[39m client = EuriaiClient(\n\u001b[32m      4\u001b[39m     api_key=EURI_API,\n\u001b[32m      5\u001b[39m     model=\u001b[33m\"\u001b[39m\u001b[33mblack-forest-labs/FLUX.1-schnell\u001b[39m\u001b[33m\"\u001b[39m\n\u001b[32m      6\u001b[39m )\n\u001b[32m----> \u001b[39m\u001b[32m8\u001b[39m response = \u001b[43mclient\u001b[49m\u001b[43m.\u001b[49m\u001b[43mgenerate_completion\u001b[49m\u001b[43m(\u001b[49m\n\u001b[32m      9\u001b[39m \u001b[43m    \u001b[49m\u001b[43mprompt\u001b[49m\u001b[43m=\u001b[49m\u001b[33;43m\"\u001b[39;49m\u001b[33;43mWrite a short poem about artificial intelligence.\u001b[39;49m\u001b[33;43m\"\u001b[39;49m\u001b[43m,\u001b[49m\n\u001b[32m     10\u001b[39m \u001b[43m    \u001b[49m\u001b[43mtemperature\u001b[49m\u001b[43m=\u001b[49m\u001b[32;43m0.7\u001b[39;49m\u001b[43m,\u001b[49m\n\u001b[32m     11\u001b[39m \u001b[43m    \u001b[49m\u001b[43mmax_tokens\u001b[49m\u001b[43m=\u001b[49m\u001b[32;43m300\u001b[39;49m\n\u001b[32m     12\u001b[39m \u001b[43m)\u001b[49m\n\u001b[32m     14\u001b[39m \u001b[38;5;28mprint\u001b[39m(response)\n",
      "\u001b[36mFile \u001b[39m\u001b[32mf:\\Gen_Ai_Project\\AITripPlnner\\AI_Trip_Planner\\env\\Lib\\site-packages\\euriai\\client.py:70\u001b[39m, in \u001b[36mEuriaiClient.generate_completion\u001b[39m\u001b[34m(self, prompt, temperature, max_tokens, top_p, frequency_penalty, presence_penalty, stop)\u001b[39m\n\u001b[32m     67\u001b[39m     payload[\u001b[33m\"\u001b[39m\u001b[33mstop\u001b[39m\u001b[33m\"\u001b[39m] = stop\n\u001b[32m     69\u001b[39m response = requests.post(\u001b[38;5;28mself\u001b[39m.endpoint, headers=headers, json=payload)\n\u001b[32m---> \u001b[39m\u001b[32m70\u001b[39m \u001b[43mresponse\u001b[49m\u001b[43m.\u001b[49m\u001b[43mraise_for_status\u001b[49m\u001b[43m(\u001b[49m\u001b[43m)\u001b[49m\n\u001b[32m     71\u001b[39m \u001b[38;5;28;01mreturn\u001b[39;00m response.json()\n",
      "\u001b[36mFile \u001b[39m\u001b[32mf:\\Gen_Ai_Project\\AITripPlnner\\AI_Trip_Planner\\env\\Lib\\site-packages\\requests\\models.py:1026\u001b[39m, in \u001b[36mResponse.raise_for_status\u001b[39m\u001b[34m(self)\u001b[39m\n\u001b[32m   1021\u001b[39m     http_error_msg = (\n\u001b[32m   1022\u001b[39m         \u001b[33mf\u001b[39m\u001b[33m\"\u001b[39m\u001b[38;5;132;01m{\u001b[39;00m\u001b[38;5;28mself\u001b[39m.status_code\u001b[38;5;132;01m}\u001b[39;00m\u001b[33m Server Error: \u001b[39m\u001b[38;5;132;01m{\u001b[39;00mreason\u001b[38;5;132;01m}\u001b[39;00m\u001b[33m for url: \u001b[39m\u001b[38;5;132;01m{\u001b[39;00m\u001b[38;5;28mself\u001b[39m.url\u001b[38;5;132;01m}\u001b[39;00m\u001b[33m\"\u001b[39m\n\u001b[32m   1023\u001b[39m     )\n\u001b[32m   1025\u001b[39m \u001b[38;5;28;01mif\u001b[39;00m http_error_msg:\n\u001b[32m-> \u001b[39m\u001b[32m1026\u001b[39m     \u001b[38;5;28;01mraise\u001b[39;00m HTTPError(http_error_msg, response=\u001b[38;5;28mself\u001b[39m)\n",
      "\u001b[31mHTTPError\u001b[39m: 404 Client Error: Not Found for url: https://api.euron.one/api/v1/euri/alpha/chat/completions"
     ]
    }
   ],
   "source": [
    "from euriai import EuriaiClient\n",
    "\n",
    "client = EuriaiClient(\n",
    "    api_key=EURI_API,\n",
    "    model=\"black-forest-labs/FLUX.1-schnell\"\n",
    ")\n",
    "\n",
    "response = client.generate_completion(\n",
    "    prompt=\"Write a short poem about artificial intelligence.\",\n",
    "    temperature=0.7,\n",
    "    max_tokens=300\n",
    ")\n",
    "\n",
    "print(response)"
   ]
  },
  {
   "cell_type": "code",
   "execution_count": null,
   "id": "e85dc481",
   "metadata": {},
   "outputs": [],
   "source": []
  },
  {
   "cell_type": "code",
   "execution_count": null,
   "id": "62272c1c",
   "metadata": {},
   "outputs": [],
   "source": []
  },
  {
   "cell_type": "code",
   "execution_count": null,
   "id": "7dec0c7f",
   "metadata": {},
   "outputs": [],
   "source": []
  }
 ],
 "metadata": {
  "kernelspec": {
   "display_name": "Python (AITripPlanner)",
   "language": "python",
   "name": "aitrip"
  },
  "language_info": {
   "codemirror_mode": {
    "name": "ipython",
    "version": 3
   },
   "file_extension": ".py",
   "mimetype": "text/x-python",
   "name": "python",
   "nbconvert_exporter": "python",
   "pygments_lexer": "ipython3",
   "version": "3.12.3"
  }
 },
 "nbformat": 4,
 "nbformat_minor": 5
}
