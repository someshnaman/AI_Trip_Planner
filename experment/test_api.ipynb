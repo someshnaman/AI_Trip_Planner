{
 "cells": [
  {
   "cell_type": "code",
   "execution_count": null,
   "id": "522e4a87",
   "metadata": {},
   "outputs": [],
   "source": [
    "from euriai import EuriaiClient\n",
    "\n",
    "client = EuriaiClient(\n",
    "    api_key=\"euri-bc2ae16e7d40c167df6c59920835de0cfaecaf0ba6afe9a88cb64f3b5d13bf9d\",\n",
    "    model=\"gpt-4.1-nano\"  # You can also try: \"gemini-2.0-flash-001\", \"llama-4-maverick\", etc.\n",
    ")\n",
    "\n",
    "response = client.generate_completion(\n",
    "    prompt=\"Write a short poem about artificial intelligence.\",\n",
    "    temperature=0.7,\n",
    "    max_tokens=300\n",
    ")\n",
    "\n",
    "print(response)"
   ]
  },
  {
   "cell_type": "code",
   "execution_count": null,
   "id": "8f5dbc45",
   "metadata": {},
   "outputs": [],
   "source": []
  }
 ],
 "metadata": {
  "kernelspec": {
   "display_name": "Python (AITripPlanner)",
   "language": "python",
   "name": "aitrip"
  },
  "language_info": {
   "name": "python",
   "version": "3.12.3"
  }
 },
 "nbformat": 4,
 "nbformat_minor": 5
}
